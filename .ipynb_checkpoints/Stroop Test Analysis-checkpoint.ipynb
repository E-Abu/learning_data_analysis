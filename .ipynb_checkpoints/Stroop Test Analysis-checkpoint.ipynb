{
 "cells": [
  {
   "cell_type": "markdown",
   "metadata": {},
   "source": [
    "# Background\n",
    "\n",
    "In a Stroop task, participants are presented with a list of words, with each word displayed in a color of ink. The participant’s task is to say out loud the color of the ink in which the word is\n",
    "printed. The task has two conditions: a congruent words condition, and an incongruent words condition. In the congruent words condition, the words being displayed are color words whose\n",
    "names match the colors in which they are printed. In the incongruent words condition, the words displayed are color words whose names do not match the colors in which they are printed.\n",
    "\n",
    "In each case, we measure the time it takes to name the ink colors in equally sized lists. Each participant will go through and record a time from each condition.\n",
    "\n",
    "# Analysis Report\n",
    "\n",
    "### Type of Test\n",
    "\n",
    "Independent variable: the ink color and the meaning of word is congruent or not\n",
    "\n",
    "dependent variable: the time it takes to name the ink colors in equally sized lists\n",
    "\n",
    "Therefore, the null hypothesis is that the time it takes to name the ink colors is equal in two conditions, while the alternative hypothesis is the time it takes in congruent words condition is less than the incongruent words condition.\n",
    "We can say in mathematical language as:\n",
    "\n",
    "$$H_0 : \\mu_c \\geq \\mu_i$$\n",
    "\n",
    "$$H_a : \\mu_c < \\mu_i$$\n",
    "\n",
    "$ \\mu_c $ represents the mean time in in congruent words condition, $ \\mu_i $ represents the mean time in in incongruent words condition. \n",
    "\n",
    "This test is a one-tail t-test.\n",
    "\n",
    "The test is a within-subject design which means the same subjects take the test in two different condictions, the sample data can extimate the population variance, and the mean of sample means is in a normal distribution. Accroding to these reasons this test is a dependent t-test for paired samples.\n",
    "\n",
    "### Discriptive Statistics\n"
   ]
  },
  {
   "cell_type": "code",
   "execution_count": 5,
   "metadata": {
    "collapsed": true
   },
   "outputs": [],
   "source": [
    "import csv\n",
    "import numpy as np\n",
    "import pandas as pd\n",
    "from babs_visualizations import usage_stats, usage_plot\n",
    "from IPython.display import display\n",
    "%matplotlib inline\n",
    "\n",
    "\n",
    "sample_data = pd.read_csv('stroopdata.csv')\n",
    "\n",
    "#display(sample_data.head())\n"
   ]
  },
  {
   "cell_type": "code",
   "execution_count": 6,
   "metadata": {
    "collapsed": true
   },
   "outputs": [],
   "source": [
    "mu_1 = np.mean(sample_data['Congruent'])\n",
    "mu_2 = np.mean(sample_data['Incongruent'])\n",
    "\n",
    "s_1 = np.std(sample_data['Congruent'] , ddof=1)\n",
    "s_2 = np.std(sample_data['Incongruent'] , ddof=1)\n",
    "\n",
    "#print('mean_Congruen=', mu_1)\n",
    "#print('mean_Incongruen=', mu_2)\n",
    "#print('SD_Congruen=', s_1)\n",
    "#print('SD_Incongruen=', s_2)\n",
    "\n"
   ]
  },
  {
   "cell_type": "markdown",
   "metadata": {},
   "source": [
    "In the congruent words condition, the mean of time is 14.05s, the standard deviation is 3.48s\n",
    "$$\\mu_c = 14.05s$$\n",
    "$$SD_c = 3.56s$$\n",
    "\n",
    "In the incongruent words condition, the mean of time is 22.02s, the standard deviation is 4.70s\n",
    "$$\\mu_i = 22.02s$$\n",
    "$$SD_i = 4.80s$$"
   ]
  },
  {
   "cell_type": "markdown",
   "metadata": {},
   "source": [
    "### Visualization\n",
    "\n",
    "Here are 24 samples in the congruent words condition.The x-axis refers to time every subject cost to read the congruent words list.\n"
   ]
  },
  {
   "cell_type": "code",
   "execution_count": 7,
   "metadata": {
    "collapsed": true
   },
   "outputs": [],
   "source": [
    "# NOTE : A easyer way for visualization\n",
    "\n",
    "# import matplotlib.pyplot as plt\n",
    "# import pandas as pd\n",
    "\n",
    "# sample_data = pd.read_csv('stroopdata.csv')\n",
    "# sample_data['Congruent'].hist(bins=8)\n",
    "# plt.title(\"Distribution of Time in Congruent Group\")"
   ]
  },
  {
   "cell_type": "code",
   "execution_count": 8,
   "metadata": {
    "scrolled": false
   },
   "outputs": [
    {
     "data": {
      "image/png": "[encoded data removed]",
      "text/plain": [
       "<matplotlib.figure.Figure at 0x105fef390>"
      ]
     },
     "metadata": {},
     "output_type": "display_data"
    }
   ],
   "source": [
    "usage_plot(sample_data, 'Congruent', boundary = 8, bin_width = 3)"
   ]
  },
  {
   "cell_type": "markdown",
   "metadata": {},
   "source": [
    "The graph shows, in the congruent words condition, most of the subjects took less than 20 seconds to finish reading.\n",
    "\n",
    "Here are 24 samples in incongruent words condition.The x-axis refers to time every subject cost to read the incongruent words list."
   ]
  },
  {
   "cell_type": "code",
   "execution_count": 9,
   "metadata": {},
   "outputs": [
    {
     "data": {
      "image/png": "[encoded data removed]",
      "text/plain": [
       "<matplotlib.figure.Figure at 0x10aa7d198>"
      ]
     },
     "metadata": {},
     "output_type": "display_data"
    }
   ],
   "source": [
    "usage_plot(sample_data, 'Incongruent',boundary = 14, bin_width = 3)"
   ]
  },
  {
   "cell_type": "markdown",
   "metadata": {},
   "source": [
    "Accroding to the graph, in the incongruent words condition, over half of the subjects took more than 20 seconds to finish reading."
   ]
  },
  {
   "cell_type": "markdown",
   "metadata": {},
   "source": [
    "### Inference Statistics"
   ]
  },
  {
   "cell_type": "code",
   "execution_count": 12,
   "metadata": {},
   "outputs": [
    {
     "name": "stdout",
     "output_type": "stream",
     "text": [
      "average different -7.964791666666667\n",
      "    Congruent  Incongruent  difference  squard_deviation\n",
      "0      12.079       19.278      -7.199          0.586437\n",
      "1      16.791       18.741      -1.950         36.177719\n",
      "2       9.564       21.214     -11.650         13.580760\n",
      "3       8.630       15.687      -7.057          0.824086\n",
      "4      14.669       22.803      -8.134          0.028631\n",
      "5      12.238       20.878      -8.640          0.455906\n",
      "6      14.692       24.572      -9.880          3.668023\n",
      "7       8.987       17.394      -8.407          0.195548\n",
      "8       9.401       20.762     -11.361         11.534231\n",
      "9      14.480       26.282     -11.802         14.724168\n",
      "10     22.328       24.524      -2.196         33.278957\n",
      "11     15.298       18.644      -3.346         21.333236\n",
      "12     15.073       17.510      -2.437         30.556481\n",
      "13     16.929       20.330      -3.401         20.828194\n",
      "14     18.200       35.255     -17.055         82.631888\n",
      "15     12.130       22.158     -10.028          4.256829\n",
      "16     18.495       25.139      -6.644          1.744491\n",
      "17     10.639       20.429      -9.790          3.331385\n",
      "18     11.344       17.425      -6.081          3.548671\n",
      "19     12.369       34.288     -21.919        194.719930\n",
      "20     12.944       23.894     -10.950          8.911469\n",
      "21     14.233       17.960      -3.727         17.958878\n",
      "22     19.710       22.058      -2.348         31.548349\n",
      "23     16.004       21.157      -5.153          7.906172\n",
      "SD 4.86482691036\n",
      "SE 0.993028634778\n",
      "t -8.02070694411\n",
      "confident interval -10.019367912 -5.91021542131\n",
      "rr 0.736636416145\n"
     ]
    }
   ],
   "source": [
    "## find t\n",
    "# print(sample_data['Incongruent'] , sample_data['Congruent'])\n",
    "sample_data['difference'] = sample_data['Congruent'] - sample_data['Incongruent']\n",
    "average_different = np.mean(sample_data['difference'])\n",
    "print('average different',average_different)\n",
    "sample_data['squard_deviation'] = (sample_data['difference'] - average_different) ** 2   #this is squard deviation between the samples in two conditions\n",
    "print (sample_data)\n",
    "sd = np.sqrt(sum(sample_data['squard_deviation']) / 23)  #this is standard deviation between the samples in two conditions\n",
    "print('SD',sd)\n",
    "se = sd/np.sqrt(24) #this is the standard error \n",
    "print('SE',se)\n",
    "\n",
    "# sdd = np.std(sample_data['difference'] , ddof=1)  #check sd again\n",
    "# print('SDd',sdd)\n",
    "\n",
    "t=(mu_1 - mu_2) / se\n",
    "print('t',t)\n",
    "\n",
    "margin_of_error = se * 2.069\n",
    "confident_interval_low = mu_1 - mu_2 - margin_of_error\n",
    "confident_interval_up = mu_1 - mu_2 + margin_of_error\n",
    "print('confident interval',confident_interval_low , confident_interval_up)\n",
    "\n",
    "rr = (t ** 2) / (t**2 + 23)\n",
    "print(\"rr\" , rr)\n",
    "\n",
    "\n"
   ]
  },
  {
   "cell_type": "markdown",
   "metadata": {},
   "source": [
    "\n",
    "##### 1. a hypothesis test\n",
    "\n",
    "This is a one-tail t-test in - direction:\n",
    "$$\\alpha = 0.05$$\n",
    "$$df = 23$$\n",
    "$$t_{critical} = -1.714$$\n",
    "\n",
    "the statistic t ( in APA-style ) :\n",
    "\n",
    "$$t(23) = \\frac{\\mu_c - \\mu_i}{SE} = -8.021 , p < .0001 , direction - $$ \n",
    "\n",
    "which means this difference is considered to be extremely statistically significant. \n",
    "\n",
    "##### 2. a confidence interval\n",
    "\n",
    "the confident interval of the difference of means ( in APA-style ) :\n",
    "\n",
    "$$95\\% CI=(-10.02,-5.91)$$\n",
    "\n",
    "##### Reject $H_0$\n",
    "\n",
    "Since this difference is considered to be extremely statistically significant, we can reject $H_0$. As was expected , the time it takes in congruent words condition is less than the incongruent words condition. If the ink color and the meaning of word is congruent do be related to the time it costs to read the list aloud.\n",
    "\n",
    "the coeffecient of determination is $r^2=73.66\\%$, which means 73.66% difference is caused by the incongruent word."
   ]
  }
 ],
 "metadata": {
  "kernelspec": {
   "display_name": "Python 3",
   "language": "python",
   "name": "python3"
  },
  "language_info": {
   "codemirror_mode": {
    "name": "ipython",
    "version": 3
   },
   "file_extension": ".py",
   "mimetype": "text/x-python",
   "name": "python",
   "nbconvert_exporter": "python",
   "pygments_lexer": "ipython3",
   "version": "3.6.3"
  }
 },
 "nbformat": 4,
 "nbformat_minor": 2
}
